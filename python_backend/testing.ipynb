{
 "cells": [
  {
   "cell_type": "code",
   "execution_count": 1,
   "metadata": {},
   "outputs": [
    {
     "name": "stdout",
     "output_type": "stream",
     "text": [
      "Requirement already satisfied: faster-whisper in /Library/Frameworks/Python.framework/Versions/3.12/lib/python3.12/site-packages (1.1.1)\n",
      "Requirement already satisfied: torch in /Library/Frameworks/Python.framework/Versions/3.12/lib/python3.12/site-packages (2.7.1)\n",
      "Requirement already satisfied: pydub in /Library/Frameworks/Python.framework/Versions/3.12/lib/python3.12/site-packages (0.25.1)\n",
      "Requirement already satisfied: ctranslate2<5,>=4.0 in /Library/Frameworks/Python.framework/Versions/3.12/lib/python3.12/site-packages (from faster-whisper) (4.6.0)\n",
      "Requirement already satisfied: huggingface-hub>=0.13 in /Library/Frameworks/Python.framework/Versions/3.12/lib/python3.12/site-packages (from faster-whisper) (0.32.4)\n",
      "Requirement already satisfied: tokenizers<1,>=0.13 in /Library/Frameworks/Python.framework/Versions/3.12/lib/python3.12/site-packages (from faster-whisper) (0.21.1)\n",
      "Requirement already satisfied: onnxruntime<2,>=1.14 in /Library/Frameworks/Python.framework/Versions/3.12/lib/python3.12/site-packages (from faster-whisper) (1.22.0)\n",
      "Requirement already satisfied: av>=11 in /Library/Frameworks/Python.framework/Versions/3.12/lib/python3.12/site-packages (from faster-whisper) (14.4.0)\n",
      "Requirement already satisfied: tqdm in /Library/Frameworks/Python.framework/Versions/3.12/lib/python3.12/site-packages (from faster-whisper) (4.67.1)\n",
      "Requirement already satisfied: setuptools in /Library/Frameworks/Python.framework/Versions/3.12/lib/python3.12/site-packages (from ctranslate2<5,>=4.0->faster-whisper) (75.6.0)\n",
      "Requirement already satisfied: numpy in /Library/Frameworks/Python.framework/Versions/3.12/lib/python3.12/site-packages (from ctranslate2<5,>=4.0->faster-whisper) (1.26.4)\n",
      "Requirement already satisfied: pyyaml<7,>=5.3 in /Library/Frameworks/Python.framework/Versions/3.12/lib/python3.12/site-packages (from ctranslate2<5,>=4.0->faster-whisper) (6.0.2)\n",
      "Requirement already satisfied: coloredlogs in /Library/Frameworks/Python.framework/Versions/3.12/lib/python3.12/site-packages (from onnxruntime<2,>=1.14->faster-whisper) (15.0.1)\n",
      "Requirement already satisfied: flatbuffers in /Library/Frameworks/Python.framework/Versions/3.12/lib/python3.12/site-packages (from onnxruntime<2,>=1.14->faster-whisper) (25.2.10)\n",
      "Requirement already satisfied: packaging in /Users/harshitkumar/Library/Python/3.12/lib/python/site-packages (from onnxruntime<2,>=1.14->faster-whisper) (24.1)\n",
      "Requirement already satisfied: protobuf in /Library/Frameworks/Python.framework/Versions/3.12/lib/python3.12/site-packages (from onnxruntime<2,>=1.14->faster-whisper) (4.25.8)\n",
      "Requirement already satisfied: sympy in /Library/Frameworks/Python.framework/Versions/3.12/lib/python3.12/site-packages (from onnxruntime<2,>=1.14->faster-whisper) (1.14.0)\n",
      "Requirement already satisfied: filelock in /Library/Frameworks/Python.framework/Versions/3.12/lib/python3.12/site-packages (from huggingface-hub>=0.13->faster-whisper) (3.18.0)\n",
      "Requirement already satisfied: fsspec>=2023.5.0 in /Library/Frameworks/Python.framework/Versions/3.12/lib/python3.12/site-packages (from huggingface-hub>=0.13->faster-whisper) (2025.5.1)\n",
      "Requirement already satisfied: requests in /Library/Frameworks/Python.framework/Versions/3.12/lib/python3.12/site-packages (from huggingface-hub>=0.13->faster-whisper) (2.32.3)\n",
      "Requirement already satisfied: typing-extensions>=3.7.4.3 in /Library/Frameworks/Python.framework/Versions/3.12/lib/python3.12/site-packages (from huggingface-hub>=0.13->faster-whisper) (4.12.2)\n",
      "Requirement already satisfied: hf-xet<2.0.0,>=1.1.2 in /Library/Frameworks/Python.framework/Versions/3.12/lib/python3.12/site-packages (from huggingface-hub>=0.13->faster-whisper) (1.1.3)\n",
      "Requirement already satisfied: networkx in /Library/Frameworks/Python.framework/Versions/3.12/lib/python3.12/site-packages (from torch) (3.5)\n",
      "Requirement already satisfied: jinja2 in /Library/Frameworks/Python.framework/Versions/3.12/lib/python3.12/site-packages (from torch) (3.1.6)\n",
      "Requirement already satisfied: mpmath<1.4,>=1.1.0 in /Library/Frameworks/Python.framework/Versions/3.12/lib/python3.12/site-packages (from sympy->onnxruntime<2,>=1.14->faster-whisper) (1.3.0)\n",
      "Requirement already satisfied: humanfriendly>=9.1 in /Library/Frameworks/Python.framework/Versions/3.12/lib/python3.12/site-packages (from coloredlogs->onnxruntime<2,>=1.14->faster-whisper) (10.0)\n",
      "Requirement already satisfied: MarkupSafe>=2.0 in /Library/Frameworks/Python.framework/Versions/3.12/lib/python3.12/site-packages (from jinja2->torch) (3.0.2)\n",
      "Requirement already satisfied: charset-normalizer<4,>=2 in /Library/Frameworks/Python.framework/Versions/3.12/lib/python3.12/site-packages (from requests->huggingface-hub>=0.13->faster-whisper) (3.4.2)\n",
      "Requirement already satisfied: idna<4,>=2.5 in /Library/Frameworks/Python.framework/Versions/3.12/lib/python3.12/site-packages (from requests->huggingface-hub>=0.13->faster-whisper) (3.10)\n",
      "Requirement already satisfied: urllib3<3,>=1.21.1 in /Library/Frameworks/Python.framework/Versions/3.12/lib/python3.12/site-packages (from requests->huggingface-hub>=0.13->faster-whisper) (2.4.0)\n",
      "Requirement already satisfied: certifi>=2017.4.17 in /Library/Frameworks/Python.framework/Versions/3.12/lib/python3.12/site-packages (from requests->huggingface-hub>=0.13->faster-whisper) (2025.4.26)\n"
     ]
    }
   ],
   "source": [
    "!pip install faster-whisper torch pydub"
   ]
  },
  {
   "cell_type": "code",
   "execution_count": 2,
   "metadata": {},
   "outputs": [
    {
     "name": "stdout",
     "output_type": "stream",
     "text": [
      "Libraries imported successfully.\n"
     ]
    }
   ],
   "source": [
    "import io\n",
    "import os\n",
    "import tempfile\n",
    "from pydub import AudioSegment\n",
    "from faster_whisper import WhisperModel\n",
    "\n",
    "print(\"Libraries imported successfully.\")"
   ]
  },
  {
   "cell_type": "code",
   "execution_count": 3,
   "metadata": {},
   "outputs": [
    {
     "name": "stdout",
     "output_type": "stream",
     "text": [
      "Requirement already satisfied: sounddevice in /Library/Frameworks/Python.framework/Versions/3.12/lib/python3.12/site-packages (0.5.2)\n",
      "Requirement already satisfied: numpy in /Library/Frameworks/Python.framework/Versions/3.12/lib/python3.12/site-packages (1.26.4)\n",
      "Requirement already satisfied: scipy in /Library/Frameworks/Python.framework/Versions/3.12/lib/python3.12/site-packages (1.12.0)\n",
      "Requirement already satisfied: CFFI>=1.0 in /Library/Frameworks/Python.framework/Versions/3.12/lib/python3.12/site-packages (from sounddevice) (1.17.1)\n",
      "Requirement already satisfied: pycparser in /Library/Frameworks/Python.framework/Versions/3.12/lib/python3.12/site-packages (from CFFI>=1.0->sounddevice) (2.22)\n"
     ]
    }
   ],
   "source": [
    "!pip install sounddevice numpy scipy"
   ]
  },
  {
   "cell_type": "code",
   "execution_count": 17,
   "metadata": {},
   "outputs": [
    {
     "name": "stdout",
     "output_type": "stream",
     "text": [
      "Press Ctrl+C to stop recording early (if not using fixed duration).\n",
      "Recording for 10 seconds...\n",
      "Sample rate: 44100 Hz, Channels: 1\n",
      "Recording saved to my_recorded_voice.wav\n",
      "\n",
      "Attempting to play back the recorded audio...\n",
      "Playback finished.\n"
     ]
    }
   ],
   "source": [
    "import sounddevice as sd\n",
    "from scipy.io.wavfile import write\n",
    "import numpy as np\n",
    "import time\n",
    "\n",
    "def record_audio(filename=\"output.wav\", duration_seconds=5, samplerate=44100, channels=1):\n",
    "    print(f\"Recording for {duration_seconds} seconds...\")\n",
    "    print(f\"Sample rate: {samplerate} Hz, Channels: {channels}\")\n",
    "\n",
    "    try:\n",
    "        # Record audio\n",
    "        # dtype='float32' is common for sounddevice and can be converted later if needed\n",
    "        myrecording = sd.rec(int(samplerate * duration_seconds),\n",
    "                             samplerate=samplerate, channels=channels, dtype='float32')\n",
    "        sd.wait()  # Wait until recording is finished\n",
    "\n",
    "        # Convert to a format suitable for WAV saving (e.g., int16)\n",
    "        # Scale to -32767 to +32767 for int16 range\n",
    "        myrecording_int16 = np.int16(myrecording * 32767)\n",
    "\n",
    "        # Save the recording as a WAV file\n",
    "        write(filename, samplerate, myrecording_int16)\n",
    "        print(f\"Recording saved to {filename}\")\n",
    "\n",
    "    except Exception as e:\n",
    "        print(f\"An error occurred during recording: {e}\")\n",
    "        print(\"Please ensure you have a microphone connected and selected as the default input device.\")\n",
    "        print(\"You might also need to grant microphone permissions to your terminal/IDE.\")\n",
    "\n",
    "if __name__ == \"__main__\":\n",
    "    # --- Configuration ---\n",
    "    RECORDING_DURATION = 10  # seconds\n",
    "    OUTPUT_FILENAME = \"my_recorded_voice.wav\"\n",
    "    # -------------------\n",
    "\n",
    "    print(\"Press Ctrl+C to stop recording early (if not using fixed duration).\")\n",
    "    record_audio(filename=OUTPUT_FILENAME, duration_seconds=RECORDING_DURATION)\n",
    "\n",
    "    print(\"\\nAttempting to play back the recorded audio...\")\n",
    "    try:\n",
    "        from scipy.io import wavfile\n",
    "        samplerate_read, data_read = wavfile.read(OUTPUT_FILENAME)\n",
    "        sd.play(data_read, samplerate_read)\n",
    "        sd.wait()\n",
    "        print(\"Playback finished.\")\n",
    "    except Exception as e:\n",
    "        print(f\"Could not play back audio (often due to missing 'portaudio' or similar playback drivers): {e}\")\n",
    "        print(\"Playback is optional, recording should still be in the .wav file.\")"
   ]
  },
  {
   "cell_type": "code",
   "execution_count": 18,
   "metadata": {},
   "outputs": [],
   "source": [
    "test_audio_input_path = \"my_recorded_voice.wav\""
   ]
  },
  {
   "cell_type": "code",
   "execution_count": 19,
   "metadata": {},
   "outputs": [
    {
     "name": "stdout",
     "output_type": "stream",
     "text": [
      "Input is already WAV: my_recorded_voice.wav\n"
     ]
    }
   ],
   "source": [
    "if not os.path.exists(test_audio_input_path):\n",
    "    print(\"Skipping audio conversion as input file was not found.\")\n",
    "    temp_wav_filepath = None\n",
    "else:\n",
    "    input_extension = os.path.splitext(test_audio_input_path)[1].lower()\n",
    "    if input_extension == '.webm':\n",
    "        try:\n",
    "            # Read WebM audio\n",
    "            with open(test_audio_input_path, 'rb') as f:\n",
    "                webm_audio_bytes = io.BytesIO(f.read())\n",
    "\n",
    "            # Convert to WAV and save to a temporary file\n",
    "            with tempfile.NamedTemporaryFile(delete=False, suffix=\".wav\") as tmp_wav_file:\n",
    "                audio = AudioSegment.from_file(webm_audio_bytes, format=\"webm\")\n",
    "                audio.export(tmp_wav_file.name, format=\"wav\")\n",
    "                temp_wav_filepath = tmp_wav_file.name\n",
    "            print(f\"WebM converted to WAV and saved to: {temp_wav_filepath}\")\n",
    "\n",
    "        except Exception as e:\n",
    "            temp_wav_filepath = None\n",
    "            print(f\"ERROR: Failed to convert audio using pydub. Make sure FFmpeg is installed and accessible in your system's PATH. Error: {e}\")\n",
    "    elif input_extension == '.wav':\n",
    "        temp_wav_filepath = test_audio_input_path # Already WAV, use directly\n",
    "        print(f\"Input is already WAV: {temp_wav_filepath}\")\n",
    "    else:\n",
    "        temp_wav_filepath = None\n",
    "        print(f\"ERROR: Unsupported audio input format: {input_extension}. Please use .webm or .wav.\")\n"
   ]
  },
  {
   "cell_type": "code",
   "execution_count": 20,
   "metadata": {},
   "outputs": [
    {
     "name": "stdout",
     "output_type": "stream",
     "text": [
      "Loading Whisper model 'small' for MPS (Apple Silicon GPU)...\n",
      "ERROR: An error occurred during Whisper transcription: unsupported device mps\n",
      "Trying fallback to CPU if MPS failed...\n"
     ]
    },
    {
     "name": "stderr",
     "output_type": "stream",
     "text": [
      "[2025-06-09 14:16:36.114] [ctranslate2] [thread 8312789] [warning] The compute type inferred from the saved model is float16, but the target device or backend do not support efficient float16 computation. The model weights have been automatically converted to use the float32 compute type instead.\n"
     ]
    },
    {
     "name": "stdout",
     "output_type": "stream",
     "text": [
      "\n",
      "--- Transcription Result (CPU) ---\n",
      " So hello everyone my name is Harshad and I hope you all are good as well so yeah this  is my interview and I have been talking about several things for the past few days.\n",
      "--------------------------\n"
     ]
    }
   ],
   "source": [
    "# Cell 5: Load Whisper Model and Transcribe\n",
    "whisper_model = None\n",
    "transcript = \"Transcription failed.\"\n",
    "\n",
    "if temp_wav_filepath and os.path.exists(temp_wav_filepath):\n",
    "    try:\n",
    "        # Load the Whisper model. Choose size: \"tiny\", \"base\", \"small\", \"medium\"\n",
    "        # \"small\" is a good balance for M3 8GB.\n",
    "        # device=\"mps\" uses your Apple Silicon GPU. compute_type=\"float16\" is efficient.\n",
    "        print(f\"Loading Whisper model 'small' for MPS (Apple Silicon GPU)...\")\n",
    "        whisper_model = WhisperModel(\"small\", device=\"mps\", compute_type=\"float16\")\n",
    "        print(\"Whisper model loaded.\")\n",
    "\n",
    "        print(f\"Starting transcription for: {temp_wav_filepath}\")\n",
    "        segments, info = whisper_model.transcribe(temp_wav_filepath, beam_size=5)\n",
    "\n",
    "        # Combine segments into a single transcript\n",
    "        transcript_parts = []\n",
    "        for segment in segments:\n",
    "            transcript_parts.append(segment.text)\n",
    "        transcript = \" \".join(transcript_parts)\n",
    "\n",
    "        print(\"\\n--- Transcription Result ---\")\n",
    "        print(transcript)\n",
    "        print(\"--------------------------\")\n",
    "\n",
    "    except Exception as e:\n",
    "        print(f\"ERROR: An error occurred during Whisper transcription: {e}\")\n",
    "        print(\"Trying fallback to CPU if MPS failed...\")\n",
    "        try:\n",
    "            # Fallback to CPU if MPS fails for some reason\n",
    "            whisper_model = WhisperModel(\"small\", device=\"cpu\")\n",
    "            segments, info = whisper_model.transcribe(temp_wav_filepath, beam_size=5)\n",
    "            transcript_parts = [segment.text for segment in segments]\n",
    "            transcript = \" \".join(transcript_parts)\n",
    "            print(\"\\n--- Transcription Result (CPU) ---\")\n",
    "            print(transcript)\n",
    "            print(\"--------------------------\")\n",
    "        except Exception as cpu_e:\n",
    "            print(f\"ERROR: Failed to transcribe on CPU either: {cpu_e}\")\n",
    "            transcript = \"Transcription failed on both MPS and CPU.\"\n",
    "else:\n",
    "    print(\"No valid audio file to transcribe.\")"
   ]
  },
  {
   "cell_type": "code",
   "execution_count": 24,
   "metadata": {},
   "outputs": [],
   "source": [
    "from dotenv import load_dotenv"
   ]
  },
  {
   "cell_type": "code",
   "execution_count": 28,
   "metadata": {},
   "outputs": [
    {
     "data": {
      "text/plain": [
       "True"
      ]
     },
     "execution_count": 28,
     "metadata": {},
     "output_type": "execute_result"
    }
   ],
   "source": [
    "load_dotenv()"
   ]
  }
 ],
 "metadata": {
  "kernelspec": {
   "display_name": "Python 3",
   "language": "python",
   "name": "python3"
  },
  "language_info": {
   "codemirror_mode": {
    "name": "ipython",
    "version": 3
   },
   "file_extension": ".py",
   "mimetype": "text/x-python",
   "name": "python",
   "nbconvert_exporter": "python",
   "pygments_lexer": "ipython3",
   "version": "3.12.4"
  }
 },
 "nbformat": 4,
 "nbformat_minor": 2
}
